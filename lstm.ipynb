{
  "cells": [
    {
      "cell_type": "code",
      "execution_count": 7,
      "metadata": {
        "id": "efnNhMgY99Tx"
      },
      "outputs": [],
      "source": [
        "import matplotlib.pyplot as plt\n",
        "import numpy as np\n",
        "import pandas as pd\n",
        "import tensorflow as tf\n",
        "from sklearn.metrics import precision_score, recall_score, f1_score\n",
        "from sklearn.model_selection import train_test_split\n",
        "from sklearn.preprocessing import LabelEncoder\n",
        "plt.style.use('ggplot')\n",
        "import nltk\n",
        "from nltk.stem import PorterStemmer\n",
        "from nltk.stem.wordnet import WordNetLemmatizer\n",
        "import spacy\n",
        "import string\n",
        "import re\n",
        "from string import digits\n",
        "import torch\n",
        "from nltk.corpus import stopwords\n",
        "from nltk.tokenize import word_tokenize\n",
        "import demoji\n",
        "import unidecode"
      ]
    },
    {
      "cell_type": "code",
      "execution_count": 8,
      "metadata": {
        "colab": {
          "base_uri": "https://localhost:8080/"
        },
        "id": "fU69n6wVSKDv",
        "outputId": "b9a18e54-0027-4b77-842a-d8db4942ce17"
      },
      "outputs": [
        {
          "name": "stderr",
          "output_type": "stream",
          "text": [
            "[nltk_data] Downloading package stopwords to\n",
            "[nltk_data]     C:\\Users\\CARG\\AppData\\Roaming\\nltk_data...\n",
            "[nltk_data]   Package stopwords is already up-to-date!\n"
          ]
        },
        {
          "data": {
            "text/plain": [
              "True"
            ]
          },
          "execution_count": 8,
          "metadata": {},
          "output_type": "execute_result"
        }
      ],
      "source": [
        " nltk.download('stopwords')"
      ]
    },
    {
      "cell_type": "code",
      "execution_count": 9,
      "metadata": {
        "colab": {
          "base_uri": "https://localhost:8080/"
        },
        "id": "Af8l8WsB9amR",
        "outputId": "22df8dcf-adc8-4754-e596-37007efeae25"
      },
      "outputs": [
        {
          "name": "stderr",
          "output_type": "stream",
          "text": [
            "[nltk_data] Downloading package stopwords to\n",
            "[nltk_data]     C:\\Users\\CARG\\AppData\\Roaming\\nltk_data...\n",
            "[nltk_data]   Package stopwords is already up-to-date!\n",
            "[nltk_data] Downloading package punkt to\n",
            "[nltk_data]     C:\\Users\\CARG\\AppData\\Roaming\\nltk_data...\n",
            "[nltk_data]   Package punkt is already up-to-date!\n"
          ]
        }
      ],
      "source": [
        "nlp = spacy.load(\"es_core_news_sm\")\n",
        "nltk.download('stopwords')\n",
        "nltk.download('punkt')\n",
        "stop_words = stopwords.words('spanish')\n",
        "spanish_stop_words = nltk.corpus.stopwords.words('spanish')"
      ]
    },
    {
      "cell_type": "code",
      "execution_count": 10,
      "metadata": {
        "id": "nA40KXcK-tAI"
      },
      "outputs": [],
      "source": [
        "df = pd.read_csv(r\"C:\\Users\\CARG\\Desktop\\Universidad\\Analítica para la Inteligencia de Negocios\\Segundo_semestre\\Topicos avanzados en NLP\\Proyecto\\Clasificador_topicos\\balanceo_1000.csv\")"
      ]
    },
    {
      "cell_type": "code",
      "execution_count": 11,
      "metadata": {
        "colab": {
          "base_uri": "https://localhost:8080/",
          "height": 81
        },
        "id": "lBOldDo2BBtE",
        "outputId": "7849cccc-0479-4a2b-c106-114866e79f68"
      },
      "outputs": [
        {
          "data": {
            "text/html": [
              "<div>\n",
              "<style scoped>\n",
              "    .dataframe tbody tr th:only-of-type {\n",
              "        vertical-align: middle;\n",
              "    }\n",
              "\n",
              "    .dataframe tbody tr th {\n",
              "        vertical-align: top;\n",
              "    }\n",
              "\n",
              "    .dataframe thead th {\n",
              "        text-align: right;\n",
              "    }\n",
              "</style>\n",
              "<table border=\"1\" class=\"dataframe\">\n",
              "  <thead>\n",
              "    <tr style=\"text-align: right;\">\n",
              "      <th></th>\n",
              "      <th>topic</th>\n",
              "      <th>text</th>\n",
              "      <th>date_query</th>\n",
              "    </tr>\n",
              "  </thead>\n",
              "  <tbody>\n",
              "    <tr>\n",
              "      <th>0</th>\n",
              "      <td>politica</td>\n",
              "      <td>corte internacional justicia haya colombia tod...</td>\n",
              "      <td>2022-08-30T18:01:55.226Z</td>\n",
              "    </tr>\n",
              "  </tbody>\n",
              "</table>\n",
              "</div>"
            ],
            "text/plain": [
              "      topic                                               text  \\\n",
              "0  politica  corte internacional justicia haya colombia tod...   \n",
              "\n",
              "                 date_query  \n",
              "0  2022-08-30T18:01:55.226Z  "
            ]
          },
          "execution_count": 11,
          "metadata": {},
          "output_type": "execute_result"
        }
      ],
      "source": [
        "df.head(1)"
      ]
    },
    {
      "cell_type": "code",
      "execution_count": 12,
      "metadata": {
        "id": "-ac3Ohfi_IMg"
      },
      "outputs": [],
      "source": [
        "#eliminacion de emojis\n",
        "def clean_text(x):\n",
        "  x = str(x)\n",
        "  x = x.lower()\n",
        "  x = re.sub(r'#[A-Za-z0-9]*', ' ', x)\n",
        "  x = re.sub(r'https*://.*', ' ', x)\n",
        "\n",
        "\n",
        "  x = re.sub(r'@[A-Za-z0-9]+', ' ', x)\n",
        "\n",
        "  # remove emojis\n",
        "  demoji.download_codes()\n",
        "  x = demoji.replace(x, '')\n",
        "\n",
        "  # remove accents\n",
        "  x = unidecode.unidecode(x)\n",
        "\n",
        "  tokens = word_tokenize(x)\n",
        "  x = ' '.join([w for w in tokens if not w.lower() in stop_words])\n",
        "  x = re.sub(r'[%s]' % re.escape('!\"#$%&\\()*+,-./:;<=>?@[\\\\]^_`{|}~“…”’'), ' ', x)\n",
        "  x = re.sub(r'\\d+', ' ', x)\n",
        "  x = re.sub(r'\\n+', ' ', x)\n",
        "  x = re.sub(r'\\s{2,}', ' ', x)\n",
        "  return x"
      ]
    },
    {
      "cell_type": "code",
      "execution_count": 13,
      "metadata": {
        "id": "c8bEx8uy_KGJ"
      },
      "outputs": [],
      "source": [
        "def lemmatize_text(text):\n",
        "    doc = nlp(text)\n",
        "    return \" \".join([token.lemma_ for token in doc])"
      ]
    },
    {
      "cell_type": "code",
      "execution_count": 14,
      "metadata": {
        "colab": {
          "base_uri": "https://localhost:8080/"
        },
        "id": "680HGe-W_L3I",
        "outputId": "766e38c7-7699-4131-e638-39f6095475a3"
      },
      "outputs": [
        {
          "name": "stderr",
          "output_type": "stream",
          "text": [
            "C:\\Users\\CARG\\AppData\\Local\\Temp\\ipykernel_16364\\3451895952.py:12: FutureWarning: The demoji.download_codes attribute is deprecated and will be removed from demoji in a future version. It is an unused attribute as emoji codes are now distributed directly with the demoji package.\n",
            "  demoji.download_codes()\n"
          ]
        }
      ],
      "source": [
        "df['clean_text'] = df.text.apply(clean_text)\n",
        "df['lemmatized_text'] = df['clean_text'].apply(lemmatize_text)"
      ]
    },
    {
      "cell_type": "code",
      "execution_count": 15,
      "metadata": {
        "colab": {
          "base_uri": "https://localhost:8080/",
          "height": 206
        },
        "id": "413qFXBXB_2e",
        "outputId": "f28739b7-9a60-4500-c099-956666452c2e"
      },
      "outputs": [
        {
          "data": {
            "text/html": [
              "<div>\n",
              "<style scoped>\n",
              "    .dataframe tbody tr th:only-of-type {\n",
              "        vertical-align: middle;\n",
              "    }\n",
              "\n",
              "    .dataframe tbody tr th {\n",
              "        vertical-align: top;\n",
              "    }\n",
              "\n",
              "    .dataframe thead th {\n",
              "        text-align: right;\n",
              "    }\n",
              "</style>\n",
              "<table border=\"1\" class=\"dataframe\">\n",
              "  <thead>\n",
              "    <tr style=\"text-align: right;\">\n",
              "      <th></th>\n",
              "      <th>topic</th>\n",
              "      <th>text</th>\n",
              "      <th>date_query</th>\n",
              "      <th>clean_text</th>\n",
              "      <th>lemmatized_text</th>\n",
              "    </tr>\n",
              "  </thead>\n",
              "  <tbody>\n",
              "    <tr>\n",
              "      <th>0</th>\n",
              "      <td>politica</td>\n",
              "      <td>corte internacional justicia haya colombia tod...</td>\n",
              "      <td>2022-08-30T18:01:55.226Z</td>\n",
              "      <td>corte internacional justicia colombia todavia ...</td>\n",
              "      <td>corte internacional justicia colombia todavia ...</td>\n",
              "    </tr>\n",
              "    <tr>\n",
              "      <th>1</th>\n",
              "      <td>politica</td>\n",
              "      <td>domingo bogotanos vieron dos situaciones disti...</td>\n",
              "      <td>2022-01-17T19:04:23.376Z</td>\n",
              "      <td>domingo bogotanos vieron dos situaciones disti...</td>\n",
              "      <td>domingo bogotano ver dos situación distinto re...</td>\n",
              "    </tr>\n",
              "    <tr>\n",
              "      <th>2</th>\n",
              "      <td>politica</td>\n",
              "      <td>comicios año entra hechos escoger autoridades ...</td>\n",
              "      <td>2022-10-29T15:19:18.159Z</td>\n",
              "      <td>comicios ano entra hechos escoger autoridades ...</td>\n",
              "      <td>comicio ano entrar hecho escoger autoridad ter...</td>\n",
              "    </tr>\n",
              "    <tr>\n",
              "      <th>3</th>\n",
              "      <td>politica</td>\n",
              "      <td>llamada puerta giratoria permite congresistas ...</td>\n",
              "      <td>2022-12-13T19:33:30.008Z</td>\n",
              "      <td>llamada puerta giratoria permite congresistas ...</td>\n",
              "      <td>llamado puerta giratorio permitir congresista ...</td>\n",
              "    </tr>\n",
              "    <tr>\n",
              "      <th>4</th>\n",
              "      <td>politica</td>\n",
              "      <td>después roces ‘tostao’ grupo colombiano choqui...</td>\n",
              "      <td>2020-04-21T16:24:05.033Z</td>\n",
              "      <td>despues roces 'tostao ' grupo colombiano choqu...</td>\n",
              "      <td>despues  roce ' tostao ' grupo colombiano choq...</td>\n",
              "    </tr>\n",
              "  </tbody>\n",
              "</table>\n",
              "</div>"
            ],
            "text/plain": [
              "      topic                                               text  \\\n",
              "0  politica  corte internacional justicia haya colombia tod...   \n",
              "1  politica  domingo bogotanos vieron dos situaciones disti...   \n",
              "2  politica  comicios año entra hechos escoger autoridades ...   \n",
              "3  politica  llamada puerta giratoria permite congresistas ...   \n",
              "4  politica  después roces ‘tostao’ grupo colombiano choqui...   \n",
              "\n",
              "                 date_query  \\\n",
              "0  2022-08-30T18:01:55.226Z   \n",
              "1  2022-01-17T19:04:23.376Z   \n",
              "2  2022-10-29T15:19:18.159Z   \n",
              "3  2022-12-13T19:33:30.008Z   \n",
              "4  2020-04-21T16:24:05.033Z   \n",
              "\n",
              "                                          clean_text  \\\n",
              "0  corte internacional justicia colombia todavia ...   \n",
              "1  domingo bogotanos vieron dos situaciones disti...   \n",
              "2  comicios ano entra hechos escoger autoridades ...   \n",
              "3  llamada puerta giratoria permite congresistas ...   \n",
              "4  despues roces 'tostao ' grupo colombiano choqu...   \n",
              "\n",
              "                                     lemmatized_text  \n",
              "0  corte internacional justicia colombia todavia ...  \n",
              "1  domingo bogotano ver dos situación distinto re...  \n",
              "2  comicio ano entrar hecho escoger autoridad ter...  \n",
              "3  llamado puerta giratorio permitir congresista ...  \n",
              "4  despues  roce ' tostao ' grupo colombiano choq...  "
            ]
          },
          "execution_count": 15,
          "metadata": {},
          "output_type": "execute_result"
        }
      ],
      "source": [
        "df.head()"
      ]
    },
    {
      "cell_type": "markdown",
      "metadata": {
        "id": "aijFLFD8_Q1_"
      },
      "source": [
        "Generacion Labels"
      ]
    },
    {
      "cell_type": "code",
      "execution_count": 16,
      "metadata": {
        "id": "pK7MtnsL_Qbn"
      },
      "outputs": [],
      "source": [
        "unique_labels = df['topic'].unique()\n",
        "label_mapping = {label: index for index, label in enumerate(unique_labels)}\n",
        "df['Autor'] = df['topic'].map(label_mapping)"
      ]
    },
    {
      "cell_type": "markdown",
      "metadata": {
        "id": "B99ezxzVBW_Z"
      },
      "source": [
        "entrenamiento"
      ]
    },
    {
      "cell_type": "code",
      "execution_count": 17,
      "metadata": {
        "id": "PbzI3i9TBYRJ"
      },
      "outputs": [],
      "source": [
        "def plot_history(history):\n",
        "    acc = history.history['accuracy']\n",
        "    val_acc = history.history['val_accuracy']\n",
        "    loss = history.history['loss']\n",
        "    val_loss = history.history['val_loss']\n",
        "    x = range(1, len(acc) + 1)\n",
        "    plt.figure(figsize=(16, 5))\n",
        "    plt.subplot(1, 2, 1)\n",
        "    plt.plot(x, acc, label='training accuracy')\n",
        "    plt.plot(x, val_acc, label='validation accuracy')\n",
        "    plt.title('Accuracy')\n",
        "    plt.legend()\n",
        "    plt.subplot(1, 2, 2)\n",
        "    plt.plot(x, loss, label='training loss')\n",
        "    plt.plot(x, val_loss, label='validation loss')\n",
        "    plt.title('Loss')\n",
        "    plt.legend()"
      ]
    },
    {
      "cell_type": "code",
      "execution_count": 18,
      "metadata": {
        "id": "wsZPTl9vBvaR"
      },
      "outputs": [],
      "source": [
        "X = df['lemmatized_text'].astype(str)\n",
        "y = tf.keras.utils.to_categorical(df['Autor'], num_classes=df['Autor'].nunique())\n",
        "X_train, X_test, y_train, y_test = train_test_split(X, y, test_size=0.2, random_state=42, stratify=df['Autor'])"
      ]
    },
    {
      "cell_type": "code",
      "execution_count": 19,
      "metadata": {
        "id": "jN-YVdvyB1GR"
      },
      "outputs": [],
      "source": [
        "tokenizer = tf.keras.preprocessing.text.Tokenizer()\n",
        "tokenizer.fit_on_texts(X_train)\n",
        "\n",
        "vocab_size = len(tokenizer.word_index) + 1"
      ]
    },
    {
      "cell_type": "code",
      "execution_count": 20,
      "metadata": {
        "id": "3NiczxAjB4CJ"
      },
      "outputs": [],
      "source": [
        "train_seq = tokenizer.texts_to_sequences(X_train)\n",
        "test_seq = tokenizer.texts_to_sequences(X_test)"
      ]
    },
    {
      "cell_type": "code",
      "execution_count": 21,
      "metadata": {
        "id": "ppE7DNPgB7xS"
      },
      "outputs": [],
      "source": [
        "max_length = len(max(train_seq, key=len))\n",
        "train_vector = tf.keras.preprocessing.sequence.pad_sequences(train_seq, maxlen=max_length, padding='post', truncating='post')\n",
        "test_vector = tf.keras.preprocessing.sequence.pad_sequences(test_seq, maxlen=max_length, padding='post', truncating='post')"
      ]
    },
    {
      "cell_type": "code",
      "execution_count": 22,
      "metadata": {
        "colab": {
          "base_uri": "https://localhost:8080/"
        },
        "id": "EjV_F_tbB-Di",
        "outputId": "3922995b-ca56-466e-e1d0-ce75723efdd0"
      },
      "outputs": [
        {
          "name": "stdout",
          "output_type": "stream",
          "text": [
            "Model: \"sequential\"\n",
            "_________________________________________________________________\n",
            " Layer (type)                Output Shape              Param #   \n",
            "=================================================================\n",
            " embedding (Embedding)       (None, 4166, 64)          6391232   \n",
            "                                                                 \n",
            " bidirectional (Bidirectiona  (None, 4166, 128)        66048     \n",
            " l)                                                              \n",
            "                                                                 \n",
            " bidirectional_1 (Bidirectio  (None, 64)               41216     \n",
            " nal)                                                            \n",
            "                                                                 \n",
            " dense (Dense)               (None, 64)                4160      \n",
            "                                                                 \n",
            " dropout (Dropout)           (None, 64)                0         \n",
            "                                                                 \n",
            " dense_1 (Dense)             (None, 6)                 390       \n",
            "                                                                 \n",
            "=================================================================\n",
            "Total params: 6,503,046\n",
            "Trainable params: 6,503,046\n",
            "Non-trainable params: 0\n",
            "_________________________________________________________________\n"
          ]
        }
      ],
      "source": [
        "class StopTrainOnHighAccuracy(tf.keras.callbacks.Callback):\n",
        "    def on_epoch_end(self, epoch, logs={}):\n",
        "        acc_threshold = 0.9\n",
        "        if logs.get('accuracy') > acc_threshold:\n",
        "            print(f\"\\nReached {acc_threshold} accuracy, cancelling training\")\n",
        "            self.model.stop_training = True\n",
        "def model(vocab_size, max_length):\n",
        "    model = tf.keras.models.Sequential([\n",
        "        tf.keras.layers.Embedding(vocab_size, 64, input_length=max_length),\n",
        "        tf.keras.layers.Bidirectional(tf.keras.layers.LSTM(64, return_sequences=True)),\n",
        "        tf.keras.layers.Bidirectional(tf.keras.layers.LSTM(32)),\n",
        "        tf.keras.layers.Dense(64, activation='relu'),\n",
        "        tf.keras.layers.Dropout(0.5),\n",
        "        tf.keras.layers.Dense(6, activation='softmax')\n",
        "    ])\n",
        "\n",
        "    return model\n",
        "model = model(vocab_size, max_length)\n",
        "model.compile(loss='categorical_crossentropy', optimizer='adam', metrics=['accuracy'])\n",
        "model.summary()"
      ]
    },
    {
      "cell_type": "code",
      "execution_count": 23,
      "metadata": {
        "colab": {
          "base_uri": "https://localhost:8080/"
        },
        "id": "wnLqxaqXCKmh",
        "outputId": "10360959-30f1-4548-db49-35944a456c7d"
      },
      "outputs": [
        {
          "name": "stdout",
          "output_type": "stream",
          "text": [
            "Epoch 1/10\n",
            "150/150 [==============================] - 1427s 9s/step - loss: 1.2890 - accuracy: 0.4675 - val_loss: 0.6413 - val_accuracy: 0.7733\n",
            "Epoch 2/10\n",
            "150/150 [==============================] - 1342s 9s/step - loss: 0.5061 - accuracy: 0.8383 - val_loss: 0.5295 - val_accuracy: 0.8167\n",
            "Epoch 3/10\n",
            "150/150 [==============================] - ETA: 0s - loss: 0.2573 - accuracy: 0.9354\n",
            "Reached 0.9 accuracy, cancelling training\n",
            "150/150 [==============================] - 1306s 9s/step - loss: 0.2573 - accuracy: 0.9354 - val_loss: 0.5995 - val_accuracy: 0.8258\n"
          ]
        }
      ],
      "source": [
        "history = model.fit(train_vector, y_train, epochs=10, validation_data=(test_vector, y_test), callbacks=[StopTrainOnHighAccuracy()])"
      ]
    },
    {
      "cell_type": "code",
      "execution_count": 24,
      "metadata": {
        "id": "rEqmEaM1CbEl"
      },
      "outputs": [
        {
          "name": "stdout",
          "output_type": "stream",
          "text": [
            "Training Accuracy: 0.9729\n",
            "Testing Accuracy:  0.8258\n"
          ]
        }
      ],
      "source": [
        "loss, accuracy = model.evaluate(train_vector, y_train, verbose=False)\n",
        "print(\"Training Accuracy: {:.4f}\".format(accuracy))\n",
        "\n",
        "loss, accuracy = model.evaluate(test_vector, y_test, verbose=False)\n",
        "print(\"Testing Accuracy:  {:.4f}\".format(accuracy))"
      ]
    },
    {
      "cell_type": "code",
      "execution_count": 25,
      "metadata": {
        "id": "QzvzFoN-CcOC"
      },
      "outputs": [
        {
          "data": {
            "image/png": "[encoded data removed]",
            "text/plain": [
              "<Figure size 1600x500 with 2 Axes>"
            ]
          },
          "metadata": {},
          "output_type": "display_data"
        }
      ],
      "source": [
        "plot_history(history)"
      ]
    },
    {
      "cell_type": "code",
      "execution_count": 26,
      "metadata": {
        "id": "Jd7kLrOmCd6z"
      },
      "outputs": [
        {
          "name": "stdout",
          "output_type": "stream",
          "text": [
            "38/38 [==============================] - 51s 1s/step\n"
          ]
        }
      ],
      "source": [
        "predictions = np.argmax(model.predict(test_vector),axis=1)\n",
        "#(model.predict(test_vector) > 0.5).astype(\"int32\")\n",
        "ground_truth = np.argmax(y_test, axis=1)"
      ]
    },
    {
      "cell_type": "code",
      "execution_count": 28,
      "metadata": {},
      "outputs": [
        {
          "data": {
            "text/html": [
              "<style>#sk-container-id-1 {color: black;}#sk-container-id-1 pre{padding: 0;}#sk-container-id-1 div.sk-toggleable {background-color: white;}#sk-container-id-1 label.sk-toggleable__label {cursor: pointer;display: block;width: 100%;margin-bottom: 0;padding: 0.3em;box-sizing: border-box;text-align: center;}#sk-container-id-1 label.sk-toggleable__label-arrow:before {content: \"▸\";float: left;margin-right: 0.25em;color: #696969;}#sk-container-id-1 label.sk-toggleable__label-arrow:hover:before {color: black;}#sk-container-id-1 div.sk-estimator:hover label.sk-toggleable__label-arrow:before {color: black;}#sk-container-id-1 div.sk-toggleable__content {max-height: 0;max-width: 0;overflow: hidden;text-align: left;background-color: #f0f8ff;}#sk-container-id-1 div.sk-toggleable__content pre {margin: 0.2em;color: black;border-radius: 0.25em;background-color: #f0f8ff;}#sk-container-id-1 input.sk-toggleable__control:checked~div.sk-toggleable__content {max-height: 200px;max-width: 100%;overflow: auto;}#sk-container-id-1 input.sk-toggleable__control:checked~label.sk-toggleable__label-arrow:before {content: \"▾\";}#sk-container-id-1 div.sk-estimator input.sk-toggleable__control:checked~label.sk-toggleable__label {background-color: #d4ebff;}#sk-container-id-1 div.sk-label input.sk-toggleable__control:checked~label.sk-toggleable__label {background-color: #d4ebff;}#sk-container-id-1 input.sk-hidden--visually {border: 0;clip: rect(1px 1px 1px 1px);clip: rect(1px, 1px, 1px, 1px);height: 1px;margin: -1px;overflow: hidden;padding: 0;position: absolute;width: 1px;}#sk-container-id-1 div.sk-estimator {font-family: monospace;background-color: #f0f8ff;border: 1px dotted black;border-radius: 0.25em;box-sizing: border-box;margin-bottom: 0.5em;}#sk-container-id-1 div.sk-estimator:hover {background-color: #d4ebff;}#sk-container-id-1 div.sk-parallel-item::after {content: \"\";width: 100%;border-bottom: 1px solid gray;flex-grow: 1;}#sk-container-id-1 div.sk-label:hover label.sk-toggleable__label {background-color: #d4ebff;}#sk-container-id-1 div.sk-serial::before {content: \"\";position: absolute;border-left: 1px solid gray;box-sizing: border-box;top: 0;bottom: 0;left: 50%;z-index: 0;}#sk-container-id-1 div.sk-serial {display: flex;flex-direction: column;align-items: center;background-color: white;padding-right: 0.2em;padding-left: 0.2em;position: relative;}#sk-container-id-1 div.sk-item {position: relative;z-index: 1;}#sk-container-id-1 div.sk-parallel {display: flex;align-items: stretch;justify-content: center;background-color: white;position: relative;}#sk-container-id-1 div.sk-item::before, #sk-container-id-1 div.sk-parallel-item::before {content: \"\";position: absolute;border-left: 1px solid gray;box-sizing: border-box;top: 0;bottom: 0;left: 50%;z-index: -1;}#sk-container-id-1 div.sk-parallel-item {display: flex;flex-direction: column;z-index: 1;position: relative;background-color: white;}#sk-container-id-1 div.sk-parallel-item:first-child::after {align-self: flex-end;width: 50%;}#sk-container-id-1 div.sk-parallel-item:last-child::after {align-self: flex-start;width: 50%;}#sk-container-id-1 div.sk-parallel-item:only-child::after {width: 0;}#sk-container-id-1 div.sk-dashed-wrapped {border: 1px dashed gray;margin: 0 0.4em 0.5em 0.4em;box-sizing: border-box;padding-bottom: 0.4em;background-color: white;}#sk-container-id-1 div.sk-label label {font-family: monospace;font-weight: bold;display: inline-block;line-height: 1.2em;}#sk-container-id-1 div.sk-label-container {text-align: center;}#sk-container-id-1 div.sk-container {/* jupyter's `normalize.less` sets `[hidden] { display: none; }` but bootstrap.min.css set `[hidden] { display: none !important; }` so we also need the `!important` here to be able to override the default hidden behavior on the sphinx rendered scikit-learn.org. See: https://github.com/scikit-learn/scikit-learn/issues/21755 */display: inline-block !important;position: relative;}#sk-container-id-1 div.sk-text-repr-fallback {display: none;}</style><div id=\"sk-container-id-1\" class=\"sk-top-container\"><div class=\"sk-text-repr-fallback\"><pre>LabelEncoder()</pre><b>In a Jupyter environment, please rerun this cell to show the HTML representation or trust the notebook. <br />On GitHub, the HTML representation is unable to render, please try loading this page with nbviewer.org.</b></div><div class=\"sk-container\" hidden><div class=\"sk-item\"><div class=\"sk-estimator sk-toggleable\"><input class=\"sk-toggleable__control sk-hidden--visually\" id=\"sk-estimator-id-1\" type=\"checkbox\" checked><label for=\"sk-estimator-id-1\" class=\"sk-toggleable__label sk-toggleable__label-arrow\">LabelEncoder</label><div class=\"sk-toggleable__content\"><pre>LabelEncoder()</pre></div></div></div></div></div>"
            ],
            "text/plain": [
              "LabelEncoder()"
            ]
          },
          "execution_count": 28,
          "metadata": {},
          "output_type": "execute_result"
        }
      ],
      "source": [
        "from sklearn.preprocessing import LabelEncoder\n",
        "\n",
        "# Create a LabelEncoder object and fit it to your labels/classes\n",
        "le = LabelEncoder()\n",
        "le.fit(ground_truth)  # Assuming ground_truth contains your class labels\n",
        "\n",
        "# Now you can use 'le' to transform labels/classes\n"
      ]
    },
    {
      "cell_type": "code",
      "execution_count": 29,
      "metadata": {
        "id": "CD68sTpTCfPN"
      },
      "outputs": [],
      "source": [
        "list_precision = []\n",
        "list_recall = []\n",
        "list_f1 = []\n",
        "for precision, target_class in zip(precision_score(ground_truth, predictions, labels=le.transform(le.classes_), average=None), le.classes_):\n",
        "    list_precision.append({'target' : target_class, 'precision' : precision})\n",
        "\n",
        "for recall in recall_score(ground_truth, predictions, labels=le.transform(le.classes_), average=None):\n",
        "    list_recall.append(recall)\n",
        "\n",
        "for recall in f1_score(ground_truth, predictions, labels=le.transform(le.classes_), average=None):\n",
        "    list_f1.append(recall)\n",
        "\n",
        "df_metrics = pd.DataFrame(list_precision)\n",
        "df_metrics['recall'] = list_recall\n",
        "df_metrics['f1_score'] = list_f1"
      ]
    },
    {
      "cell_type": "code",
      "execution_count": 30,
      "metadata": {
        "id": "oYPXlJDRCgrb"
      },
      "outputs": [
        {
          "data": {
            "text/html": [
              "<div>\n",
              "<style scoped>\n",
              "    .dataframe tbody tr th:only-of-type {\n",
              "        vertical-align: middle;\n",
              "    }\n",
              "\n",
              "    .dataframe tbody tr th {\n",
              "        vertical-align: top;\n",
              "    }\n",
              "\n",
              "    .dataframe thead th {\n",
              "        text-align: right;\n",
              "    }\n",
              "</style>\n",
              "<table border=\"1\" class=\"dataframe\">\n",
              "  <thead>\n",
              "    <tr style=\"text-align: right;\">\n",
              "      <th></th>\n",
              "      <th>target</th>\n",
              "      <th>precision</th>\n",
              "      <th>recall</th>\n",
              "      <th>f1_score</th>\n",
              "    </tr>\n",
              "  </thead>\n",
              "  <tbody>\n",
              "    <tr>\n",
              "      <th>4</th>\n",
              "      <td>4</td>\n",
              "      <td>0.95</td>\n",
              "      <td>1.00</td>\n",
              "      <td>0.97</td>\n",
              "    </tr>\n",
              "    <tr>\n",
              "      <th>2</th>\n",
              "      <td>2</td>\n",
              "      <td>0.97</td>\n",
              "      <td>0.88</td>\n",
              "      <td>0.92</td>\n",
              "    </tr>\n",
              "    <tr>\n",
              "      <th>0</th>\n",
              "      <td>0</td>\n",
              "      <td>0.88</td>\n",
              "      <td>0.84</td>\n",
              "      <td>0.86</td>\n",
              "    </tr>\n",
              "    <tr>\n",
              "      <th>1</th>\n",
              "      <td>1</td>\n",
              "      <td>0.90</td>\n",
              "      <td>0.68</td>\n",
              "      <td>0.78</td>\n",
              "    </tr>\n",
              "    <tr>\n",
              "      <th>5</th>\n",
              "      <td>5</td>\n",
              "      <td>0.61</td>\n",
              "      <td>0.88</td>\n",
              "      <td>0.72</td>\n",
              "    </tr>\n",
              "    <tr>\n",
              "      <th>3</th>\n",
              "      <td>3</td>\n",
              "      <td>0.78</td>\n",
              "      <td>0.66</td>\n",
              "      <td>0.71</td>\n",
              "    </tr>\n",
              "  </tbody>\n",
              "</table>\n",
              "</div>"
            ],
            "text/plain": [
              "   target  precision  recall  f1_score\n",
              "4       4       0.95    1.00      0.97\n",
              "2       2       0.97    0.88      0.92\n",
              "0       0       0.88    0.84      0.86\n",
              "1       1       0.90    0.68      0.78\n",
              "5       5       0.61    0.88      0.72\n",
              "3       3       0.78    0.66      0.71"
            ]
          },
          "execution_count": 30,
          "metadata": {},
          "output_type": "execute_result"
        }
      ],
      "source": [
        "df_metrics = round(df_metrics, 2)\n",
        "df_metrics.sort_values('f1_score', ascending=False)"
      ]
    },
    {
      "cell_type": "code",
      "execution_count": 31,
      "metadata": {},
      "outputs": [],
      "source": [
        "import json\n",
        "# Guarda el modelo y su tokenizer\n",
        "model.save('modelo_lstm.h5')\n",
        "\n",
        "# Guarda el tokenizer en formato JSON\n",
        "tokenizer_json = tokenizer.to_json()\n",
        "with open('tokenizer.json', 'w', encoding='utf-8') as f:\n",
        "    f.write(json.dumps(tokenizer_json, ensure_ascii=False))\n",
        "\n",
        "# Guarda el vocabulario del tokenizer en formato JSON\n",
        "with open('word_index.json', 'w', encoding='utf-8') as f:\n",
        "    f.write(json.dumps(tokenizer.word_index, ensure_ascii=False))"
      ]
    }
  ],
  "metadata": {
    "colab": {
      "provenance": []
    },
    "kernelspec": {
      "display_name": "Python 3",
      "name": "python3"
    },
    "language_info": {
      "codemirror_mode": {
        "name": "ipython",
        "version": 3
      },
      "file_extension": ".py",
      "mimetype": "text/x-python",
      "name": "python",
      "nbconvert_exporter": "python",
      "pygments_lexer": "ipython3",
      "version": "3.9.18"
    }
  },
  "nbformat": 4,
  "nbformat_minor": 0
}
